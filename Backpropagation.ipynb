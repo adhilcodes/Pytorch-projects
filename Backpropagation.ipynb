{
  "nbformat": 4,
  "nbformat_minor": 0,
  "metadata": {
    "colab": {
      "name": "Backpropagation.ipynb",
      "provenance": [],
      "collapsed_sections": [],
      "toc_visible": true
    },
    "kernelspec": {
      "display_name": "Python 3",
      "language": "python",
      "name": "python3"
    },
    "language_info": {
      "codemirror_mode": {
        "name": "ipython",
        "version": 3
      },
      "file_extension": ".py",
      "mimetype": "text/x-python",
      "name": "python",
      "nbconvert_exporter": "python",
      "pygments_lexer": "ipython3",
      "version": "3.8.3"
    }
  },
  "cells": [
    {
      "cell_type": "markdown",
      "metadata": {
        "id": "fabERbFCY9G4"
      },
      "source": [
        "### Backpropagation in [Pytorch](https://pytorch.org/)"
      ]
    },
    {
      "cell_type": "code",
      "metadata": {
        "id": "V0ERardhXJAT"
      },
      "source": [
        "import torch"
      ],
      "execution_count": 16,
      "outputs": []
    },
    {
      "cell_type": "code",
      "metadata": {
        "colab": {
          "base_uri": "https://localhost:8080/",
          "height": 35
        },
        "id": "0YbxPJbvXsuz",
        "outputId": "0eeca4b7-4503-42b6-ef0d-7f50a7f77f92"
      },
      "source": [
        "torch.__version__"
      ],
      "execution_count": 17,
      "outputs": [
        {
          "output_type": "execute_result",
          "data": {
            "application/vnd.google.colaboratory.intrinsic+json": {
              "type": "string"
            },
            "text/plain": [
              "'1.7.0+cu101'"
            ]
          },
          "metadata": {
            "tags": []
          },
          "execution_count": 17
        }
      ]
    },
    {
      "cell_type": "code",
      "metadata": {
        "id": "HjeMdHvSbYDJ"
      },
      "source": [
        "lst = [[1., 2., 3.], [4., 5., 6.], [7., 8., 9.]]"
      ],
      "execution_count": 24,
      "outputs": []
    },
    {
      "cell_type": "code",
      "metadata": {
        "colab": {
          "base_uri": "https://localhost:8080/"
        },
        "id": "yKjFbBGqXchB",
        "outputId": "2af5925d-47e1-4a45-a37f-0a015c9fe2e7"
      },
      "source": [
        "input = torch.tensor(lst, requires_grad=True)\n",
        "input"
      ],
      "execution_count": 25,
      "outputs": [
        {
          "output_type": "execute_result",
          "data": {
            "text/plain": [
              "tensor([[1., 2., 3.],\n",
              "        [4., 5., 6.],\n",
              "        [7., 8., 9.]], requires_grad=True)"
            ]
          },
          "metadata": {
            "tags": []
          },
          "execution_count": 25
        }
      ]
    },
    {
      "cell_type": "code",
      "metadata": {
        "colab": {
          "base_uri": "https://localhost:8080/"
        },
        "id": "0tZ38ERYXg2C",
        "outputId": "fb433ca6-b425-4aff-b79d-0fd59b307624"
      },
      "source": [
        "y = input**3 + input**2\n",
        "y"
      ],
      "execution_count": 27,
      "outputs": [
        {
          "output_type": "execute_result",
          "data": {
            "text/plain": [
              "tensor([[  2.,  12.,  36.],\n",
              "        [ 80., 150., 252.],\n",
              "        [392., 576., 810.]], grad_fn=<AddBackward0>)"
            ]
          },
          "metadata": {
            "tags": []
          },
          "execution_count": 27
        }
      ]
    },
    {
      "cell_type": "code",
      "metadata": {
        "id": "HM6jFHCXapo4"
      },
      "source": [
        "# Backpropagation\n",
        "\n",
        "z = y.sum()\n",
        "z.backward()"
      ],
      "execution_count": 29,
      "outputs": []
    },
    {
      "cell_type": "code",
      "metadata": {
        "colab": {
          "base_uri": "https://localhost:8080/"
        },
        "id": "SiWn6TTzau0I",
        "outputId": "9a113848-1673-4f7e-d156-6c3bb25a2ebd"
      },
      "source": [
        "input.grad"
      ],
      "execution_count": 30,
      "outputs": [
        {
          "output_type": "execute_result",
          "data": {
            "text/plain": [
              "tensor([[  5.,  16.,  33.],\n",
              "        [ 56.,  85., 120.],\n",
              "        [161., 208., 261.]])"
            ]
          },
          "metadata": {
            "tags": []
          },
          "execution_count": 30
        }
      ]
    },
    {
      "cell_type": "code",
      "metadata": {
        "id": "BTSguxgja4Y_"
      },
      "source": [
        ""
      ],
      "execution_count": null,
      "outputs": []
    }
  ]
}